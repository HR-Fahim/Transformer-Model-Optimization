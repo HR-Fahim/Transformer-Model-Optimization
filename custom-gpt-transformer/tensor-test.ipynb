{
 "cells": [
  {
   "cell_type": "markdown",
   "id": "19b999bd",
   "metadata": {},
   "source": [
    "#### Torch Import"
   ]
  },
  {
   "cell_type": "code",
   "execution_count": 22,
   "metadata": {},
   "outputs": [],
   "source": [
    "import torch\n",
    "import torch.nn as nn"
   ]
  },
  {
   "cell_type": "markdown",
   "id": "8e8a9a85",
   "metadata": {},
   "source": [
    "#### Test Codes"
   ]
  },
  {
   "cell_type": "code",
   "execution_count": 3,
   "id": "edd76005",
   "metadata": {},
   "outputs": [
    {
     "name": "stdout",
     "output_type": "stream",
     "text": [
      "tensor([ 246,  106, -148,  184,  184,  190,  224])\n"
     ]
    }
   ],
   "source": [
    "# Generate random integers using torch\n",
    "randint = torch.randint(-200, 250, (7,))\n",
    "\n",
    "# Print the randomly generated integers\n",
    "print(randint)"
   ]
  },
  {
   "cell_type": "code",
   "execution_count": 4,
   "id": "b6a1dc87",
   "metadata": {},
   "outputs": [
    {
     "name": "stdout",
     "output_type": "stream",
     "text": [
      "tensor([[0.1000, 2.4000],\n",
      "        [5.7000, 8.0000],\n",
      "        [9.0000, 0.1000]])\n"
     ]
    }
   ],
   "source": [
    "# Create a tensor with the given values\n",
    "tensor = torch.tensor([[0.1, 2.4], [5.7, 8], [9, 0.1]])\n",
    "\n",
    "# Print the tensor\n",
    "print(tensor)"
   ]
  },
  {
   "cell_type": "code",
   "execution_count": 5,
   "id": "2d79a8c4",
   "metadata": {},
   "outputs": [
    {
     "name": "stdout",
     "output_type": "stream",
     "text": [
      "tensor([[0., 0., 0., 0.],\n",
      "        [0., 0., 0., 0.],\n",
      "        [0., 0., 0., 0.]])\n",
      "tensor([[1., 1., 1., 1.],\n",
      "        [1., 1., 1., 1.],\n",
      "        [1., 1., 1., 1.]])\n",
      "tensor([[6.5508e+01, 1.2331e-42, 0.0000e+00, 0.0000e+00],\n",
      "        [0.0000e+00, 0.0000e+00, 0.0000e+00, 0.0000e+00],\n",
      "        [0.0000e+00, 0.0000e+00, 0.0000e+00, 0.0000e+00]])\n"
     ]
    }
   ],
   "source": [
    "# Create a tensor of zeros with shape (3, 4)\n",
    "zeros = torch.zeros(3, 4)\n",
    "print(zeros)\n",
    "\n",
    "# Create a tensor of ones with shape (3, 4)\n",
    "ones = torch.ones(3, 4)\n",
    "print(ones)\n",
    "\n",
    "# Create an empty tensor with shape (3, 4)\n",
    "empty = torch.empty(3, 4)\n",
    "print(empty)"
   ]
  },
  {
   "cell_type": "code",
   "execution_count": 6,
   "id": "17622ab6",
   "metadata": {},
   "outputs": [
    {
     "name": "stdout",
     "output_type": "stream",
     "text": [
      "tensor([0, 1, 2, 3, 4, 5, 6, 7, 8, 9])\n"
     ]
    }
   ],
   "source": [
    "# Create a tensor with values arranged from 0 to 9\n",
    "arranged = torch.arange(0, 10)\n",
    "\n",
    "# Print the tensor\n",
    "print(arranged)"
   ]
  },
  {
   "cell_type": "code",
   "execution_count": 7,
   "id": "7ae5533b",
   "metadata": {},
   "outputs": [
    {
     "name": "stdout",
     "output_type": "stream",
     "text": [
      "tensor([0.0000, 0.1111, 0.2222, 0.3333, 0.4444, 0.5556, 0.6667, 0.7778, 0.8889,\n",
      "        1.0000])\n",
      "tensor([1.0000e-10, 1.6681e-09, 2.7826e-08, 4.6416e-07, 7.7426e-06, 1.2915e-04,\n",
      "        2.1544e-03, 3.5938e-02, 5.9948e-01, 1.0000e+01])\n"
     ]
    }
   ],
   "source": [
    "# Generate a tensor with values evenly spaced between 0 and 1\n",
    "linespace = torch.linspace(0, 1, steps=10)\n",
    "\n",
    "# Print the tensor\n",
    "print(linespace)\n",
    "\n",
    "# Generate a tensor with values logarithmically spaced between 0 and 1\n",
    "logspace = torch.logspace(-10, 1, steps=10)\n",
    "\n",
    "# Print the tensor\n",
    "print(logspace)"
   ]
  },
  {
   "cell_type": "code",
   "execution_count": 8,
   "id": "f42fad8d",
   "metadata": {},
   "outputs": [
    {
     "name": "stdout",
     "output_type": "stream",
     "text": [
      "tensor([[1., 0., 0.],\n",
      "        [0., 1., 0.],\n",
      "        [0., 0., 1.]])\n"
     ]
    }
   ],
   "source": [
    "# Create an identity matrix with shape (3, 3)\n",
    "eye = torch.eye(3, 3)\n",
    "\n",
    "# Print the identity matrix\n",
    "print(eye)"
   ]
  },
  {
   "cell_type": "code",
   "execution_count": 9,
   "id": "b970569f",
   "metadata": {},
   "outputs": [
    {
     "name": "stdout",
     "output_type": "stream",
     "text": [
      "tensor([[3780687104304,             0,             0],\n",
      "        [            0,             0,             0]])\n",
      "tensor([[0, 0, 0],\n",
      "        [0, 0, 0]])\n"
     ]
    }
   ],
   "source": [
    "value = torch.empty((2, 3), dtype=torch.int64)\n",
    "print(value)\n",
    "\n",
    "# Create a new tensor with the same shape as 'value' but uninitialized\n",
    "empty_like = torch.empty_like(value)\n",
    "print(empty_like)"
   ]
  },
  {
   "cell_type": "code",
   "execution_count": 20,
   "id": "f266d42c",
   "metadata": {},
   "outputs": [
    {
     "name": "stdout",
     "output_type": "stream",
     "text": [
      "torch.Size([8, 3])\n",
      "tensor([[0.7531, 0.1634, 0.3434],\n",
      "        [0.3816, 0.2208, 0.6429],\n",
      "        [0.1060, 0.7538, 0.8523],\n",
      "        [0.8971, 0.0865, 0.9021],\n",
      "        [0.5488, 0.1183, 0.8590],\n",
      "        [0.4822, 0.9216, 0.2674],\n",
      "        [0.9709, 0.4666, 0.5373],\n",
      "        [0.2969, 0.0801, 0.8365]])\n",
      "tensor([0.3434, 0.6429, 0.8523, 0.9021, 0.8590, 0.2674, 0.5373, 0.8365])\n"
     ]
    }
   ],
   "source": [
    "value = torch.rand((4, 2, 3))\n",
    "\n",
    "B, T, C = value.shape\n",
    "\n",
    "value = value.view(B * T, C)\n",
    "\n",
    "print(value.shape)\n",
    "\n",
    "print(value)\n",
    "\n",
    "print(value[:, -1])"
   ]
  },
  {
   "cell_type": "code",
   "execution_count": 25,
   "id": "e090e6c2",
   "metadata": {},
   "outputs": [
    {
     "name": "stdout",
     "output_type": "stream",
     "text": [
      "tensor([-0.1000])\n",
      "tensor([0.])\n",
      "tensor([0.4750])\n"
     ]
    }
   ],
   "source": [
    "x = torch.tensor([-0.10], dtype=torch.float32)\n",
    "\n",
    "y = nn.ReLU()(x)\n",
    "\n",
    "z = nn.Sigmoid()(x)\n",
    "\n",
    "print(x)\n",
    "print(y)\n",
    "print(z)"
   ]
  }
 ],
 "metadata": {
  "kernelspec": {
   "display_name": "cuda",
   "language": "python",
   "name": "python3"
  },
  "language_info": {
   "codemirror_mode": {
    "name": "ipython",
    "version": 3
   },
   "file_extension": ".py",
   "mimetype": "text/x-python",
   "name": "python",
   "nbconvert_exporter": "python",
   "pygments_lexer": "ipython3",
   "version": "3.12.7"
  }
 },
 "nbformat": 4,
 "nbformat_minor": 5
}
