{
 "cells": [
  {
   "cell_type": "markdown",
   "id": "19b999bd",
   "metadata": {},
   "source": [
    "#### Torch Import"
   ]
  },
  {
   "cell_type": "code",
   "execution_count": 1,
   "metadata": {},
   "outputs": [],
   "source": [
    "import torch"
   ]
  },
  {
   "cell_type": "markdown",
   "id": "8e8a9a85",
   "metadata": {},
   "source": [
    "#### Test Codes"
   ]
  },
  {
   "cell_type": "code",
   "execution_count": 4,
   "id": "edd76005",
   "metadata": {},
   "outputs": [
    {
     "name": "stdout",
     "output_type": "stream",
     "text": [
      "tensor([  66,   80,  119, -200,   69,  118,  146])\n"
     ]
    }
   ],
   "source": [
    "# Generate random integers using torch\n",
    "randint = torch.randint(-200, 250, (7,))\n",
    "\n",
    "# Print the randomly generated integers\n",
    "print(randint)"
   ]
  },
  {
   "cell_type": "code",
   "execution_count": 8,
   "id": "b6a1dc87",
   "metadata": {},
   "outputs": [
    {
     "name": "stdout",
     "output_type": "stream",
     "text": [
      "tensor([[0.1000, 2.4000],\n",
      "        [5.7000, 8.0000],\n",
      "        [9.0000, 0.1000]])\n"
     ]
    }
   ],
   "source": [
    "# Create a tensor with the given values\n",
    "tensor = torch.tensor([[0.1, 2.4], [5.7, 8], [9, 0.1]])\n",
    "\n",
    "# Print the tensor\n",
    "print(tensor)"
   ]
  },
  {
   "cell_type": "code",
   "execution_count": 11,
   "id": "2d79a8c4",
   "metadata": {},
   "outputs": [
    {
     "name": "stdout",
     "output_type": "stream",
     "text": [
      "tensor([[0., 0., 0., 0.],\n",
      "        [0., 0., 0., 0.],\n",
      "        [0., 0., 0., 0.]])\n",
      "tensor([[1., 1., 1., 1.],\n",
      "        [1., 1., 1., 1.],\n",
      "        [1., 1., 1., 1.]])\n",
      "tensor([[6.4458e+09, 1.0608e-42, 0.0000e+00, 0.0000e+00],\n",
      "        [0.0000e+00, 0.0000e+00, 0.0000e+00, 0.0000e+00],\n",
      "        [0.0000e+00, 0.0000e+00, 0.0000e+00, 0.0000e+00]])\n"
     ]
    }
   ],
   "source": [
    "# Create a tensor of zeros with shape (3, 4)\n",
    "zeros = torch.zeros(3, 4)\n",
    "print(zeros)\n",
    "\n",
    "# Create a tensor of ones with shape (3, 4)\n",
    "ones = torch.ones(3, 4)\n",
    "print(ones)\n",
    "\n",
    "# Create an empty tensor with shape (3, 4)\n",
    "empty = torch.empty(3, 4)\n",
    "print(empty)"
   ]
  },
  {
   "cell_type": "code",
   "execution_count": 12,
   "id": "17622ab6",
   "metadata": {},
   "outputs": [
    {
     "name": "stdout",
     "output_type": "stream",
     "text": [
      "tensor([0, 1, 2, 3, 4, 5, 6, 7, 8, 9])\n"
     ]
    }
   ],
   "source": [
    "# Create a tensor with values arranged from 0 to 9\n",
    "arranged = torch.arange(0, 10)\n",
    "\n",
    "# Print the tensor\n",
    "print(arranged)"
   ]
  },
  {
   "cell_type": "code",
   "execution_count": 13,
   "id": "7ae5533b",
   "metadata": {},
   "outputs": [
    {
     "name": "stdout",
     "output_type": "stream",
     "text": [
      "tensor([0.0000, 0.1111, 0.2222, 0.3333, 0.4444, 0.5556, 0.6667, 0.7778, 0.8889,\n",
      "        1.0000])\n"
     ]
    }
   ],
   "source": [
    "# Generate a tensor with values evenly spaced between 0 and 1\n",
    "linespace = torch.linspace(0, 1, steps=10)\n",
    "\n",
    "# Print the tensor\n",
    "print(linespace)"
   ]
  }
 ],
 "metadata": {
  "kernelspec": {
   "display_name": "cuda",
   "language": "python",
   "name": "python3"
  },
  "language_info": {
   "codemirror_mode": {
    "name": "ipython",
    "version": 3
   },
   "file_extension": ".py",
   "mimetype": "text/x-python",
   "name": "python",
   "nbconvert_exporter": "python",
   "pygments_lexer": "ipython3",
   "version": "3.12.7"
  }
 },
 "nbformat": 4,
 "nbformat_minor": 5
}
