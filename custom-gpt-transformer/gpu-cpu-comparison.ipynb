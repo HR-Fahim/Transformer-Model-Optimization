{
 "cells": [
  {
   "cell_type": "markdown",
   "id": "19b999bd",
   "metadata": {},
   "source": [
    "#### Torch Import"
   ]
  },
  {
   "cell_type": "code",
   "execution_count": 2,
   "metadata": {},
   "outputs": [
    {
     "name": "stdout",
     "output_type": "stream",
     "text": [
      "cuda\n"
     ]
    }
   ],
   "source": [
    "import time\n",
    "import torch\n",
    "import numpy as np\n",
    "\n",
    "device = torch.device(\"cuda\" if torch.cuda.is_available() else \"cpu\")\n",
    "print(device)"
   ]
  },
  {
   "cell_type": "markdown",
   "id": "8e8a9a85",
   "metadata": {},
   "source": [
    "#### Test Elapsed Time "
   ]
  },
  {
   "cell_type": "code",
   "execution_count": 10,
   "id": "43907e7e",
   "metadata": {},
   "outputs": [
    {
     "name": "stdout",
     "output_type": "stream",
     "text": [
      "  0.000000\n"
     ]
    }
   ],
   "source": [
    "start_time = time.time()  # Start measuring the execution time\n",
    "\n",
    "# Matrix multiplication\n",
    "zeros = torch.zeros(3, 4)  # Create a tensor of zeros\n",
    "\n",
    "end_time = time.time()  # Stop measuring the execution time\n",
    "\n",
    "elapsed_time = end_time - start_time  # Calculate the elapsed time\n",
    "print(f\"{elapsed_time: 10f}\")  # Print the elapsed time"
   ]
  },
  {
   "cell_type": "code",
   "execution_count": 12,
   "id": "180cb215",
   "metadata": {},
   "outputs": [
    {
     "name": "stdout",
     "output_type": "stream",
     "text": [
      "(CUDA) GPU:   0.031118\n",
      "CPU:  24.276107\n"
     ]
    }
   ],
   "source": [
    "\"\"\"\n",
    "Time the execution of a matrix multiplication over GPU and CPU\n",
    "\"\"\"\n",
    "\n",
    "torch_rand_first = torch.rand(10000, 10000).to(device)\n",
    "torch_rand_second = torch.rand(10000, 10000).to(device)\n",
    "\n",
    "np_rand_first = np.random.rand(10000, 10000)\n",
    "np_rand_second = np.random.rand(10000, 10000)\n",
    "\n",
    "start_time = time.time()  # Start measuring the execution time\n",
    "\n",
    "torch_rand_first @ torch_rand_second  # Matrix multiplication\n",
    "end_time = time.time()  # Stop measuring the execution time\n",
    "\n",
    "elapsed_time = end_time - start_time  # Calculate the elapsed time\n",
    "print(f\"(CUDA) GPU: {elapsed_time: 10f}\")  # Print the elapsed time\n",
    "\n",
    "start_time = time.time()  # Start measuring the execution time\n",
    "\n",
    "np_rand_first @ np_rand_second  # Matrix multiplication\n",
    "end_time = time.time()  # Stop measuring the execution time\n",
    "\n",
    "elapsed_time = end_time - start_time  # Calculate the elapsed time\n",
    "print(f\"CPU: {elapsed_time: 10f}\")  # Print the elapsed time"
   ]
  }
 ],
 "metadata": {
  "kernelspec": {
   "display_name": "cuda",
   "language": "python",
   "name": "python3"
  },
  "language_info": {
   "codemirror_mode": {
    "name": "ipython",
    "version": 3
   },
   "file_extension": ".py",
   "mimetype": "text/x-python",
   "name": "python",
   "nbconvert_exporter": "python",
   "pygments_lexer": "ipython3",
   "version": "3.12.7"
  }
 },
 "nbformat": 4,
 "nbformat_minor": 5
}
