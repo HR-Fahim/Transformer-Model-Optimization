{
 "cells": [
  {
   "cell_type": "markdown",
   "id": "19b999bd",
   "metadata": {},
   "source": [
    "#### Torch Import"
   ]
  },
  {
   "cell_type": "code",
   "execution_count": 2,
   "metadata": {},
   "outputs": [
    {
     "name": "stdout",
     "output_type": "stream",
     "text": [
      "cuda\n"
     ]
    }
   ],
   "source": [
    "import time\n",
    "import torch\n",
    "import numpy as np\n",
    "\n",
    "device = torch.device(\"cuda\" if torch.cuda.is_available() else \"cpu\")\n",
    "print(device)"
   ]
  },
  {
   "cell_type": "markdown",
   "id": "8e8a9a85",
   "metadata": {},
   "source": [
    "#### Test Elapsed Time "
   ]
  },
  {
   "cell_type": "code",
   "execution_count": 17,
   "id": "43907e7e",
   "metadata": {},
   "outputs": [
    {
     "name": "stdout",
     "output_type": "stream",
     "text": [
      "  0.000000\n",
      "CPU times: total: 0 ns\n",
      "Wall time: 0 ns\n"
     ]
    }
   ],
   "source": [
    "%%time\n",
    "start_time = time.time()  # Start measuring the execution time\n",
    "\n",
    "# Matrix multiplication\n",
    "zeros = torch.zeros(3, 4)  # Create a tensor of zeros\n",
    "\n",
    "end_time = time.time()  # Stop measuring the execution time\n",
    "\n",
    "elapsed_time = end_time - start_time  # Calculate the elapsed time\n",
    "print(f\"{elapsed_time: 10f}\")  # Print the elapsed time"
   ]
  },
  {
   "cell_type": "code",
   "execution_count": 12,
   "id": "180cb215",
   "metadata": {},
   "outputs": [
    {
     "name": "stdout",
     "output_type": "stream",
     "text": [
      "(CUDA) GPU:   0.031118\n",
      "CPU:  24.276107\n"
     ]
    }
   ],
   "source": [
    "\"\"\"\n",
    "Time the execution of a matrix multiplication over GPU and CPU\n",
    "\"\"\"\n",
    "\n",
    "torch_rand_first = torch.rand(10000, 10000).to(device)\n",
    "torch_rand_second = torch.rand(10000, 10000).to(device)\n",
    "\n",
    "np_rand_first = np.random.rand(10000, 10000)\n",
    "np_rand_second = np.random.rand(10000, 10000)\n",
    "\n",
    "start_time = time.time()  # Start measuring the execution time\n",
    "\n",
    "torch_rand_first @ torch_rand_second  # Matrix multiplication\n",
    "end_time = time.time()  # Stop measuring the execution time\n",
    "\n",
    "elapsed_time = end_time - start_time  # Calculate the elapsed time\n",
    "print(f\"(CUDA) GPU: {elapsed_time: 10f}\")  # Print the elapsed time\n",
    "\n",
    "start_time = time.time()  # Start measuring the execution time\n",
    "\n",
    "np_rand_first @ np_rand_second  # Matrix multiplication\n",
    "end_time = time.time()  # Stop measuring the execution time\n",
    "\n",
    "elapsed_time = end_time - start_time  # Calculate the elapsed time\n",
    "print(f\"CPU: {elapsed_time: 10f}\")  # Print the elapsed time"
   ]
  },
  {
   "cell_type": "markdown",
   "id": "2b4d9888",
   "metadata": {},
   "source": [
    "#### Torch Functions"
   ]
  },
  {
   "cell_type": "code",
   "execution_count": 20,
   "id": "df8047e9",
   "metadata": {},
   "outputs": [
    {
     "name": "stdout",
     "output_type": "stream",
     "text": [
      "tensor([4, 4, 0])\n"
     ]
    }
   ],
   "source": [
    "\"\"\"\n",
    "Perform multinomial sampling on the tensor with probabilities \n",
    "and print the tensor\n",
    "\"\"\"\n",
    "\n",
    "# Create a tensor with probabilities\n",
    "probabilities = torch.tensor([0.1, 0.2, 0.3, 0.4, 0.5])\n",
    "\n",
    "# Perform multinomial sampling\n",
    "sampled_indices = torch.multinomial(probabilities, num_samples=3, replacement=True)\n",
    "\n",
    "# Print the tensor\n",
    "print(sampled_indices)"
   ]
  },
  {
   "cell_type": "code",
   "execution_count": 21,
   "id": "5fb9e8a3",
   "metadata": {},
   "outputs": [
    {
     "name": "stdout",
     "output_type": "stream",
     "text": [
      "tensor([0.1000, 0.2000, 0.3000, 0.4000, 0.5000, 5.0000])\n"
     ]
    }
   ],
   "source": [
    "# Create a tensor\n",
    "tensor = torch.tensor([0.1, 0.2, 0.3, 0.4, 0.5])\n",
    "\n",
    "# Concatenate the tensor with another tensor containing the value 5\n",
    "out = torch.cat((tensor, torch.tensor([5])), dim=0)\n",
    "\n",
    "# Print the concatenated tensor\n",
    "print(out)"
   ]
  },
  {
   "cell_type": "code",
   "execution_count": 23,
   "id": "36b0d80e",
   "metadata": {},
   "outputs": [
    {
     "name": "stdout",
     "output_type": "stream",
     "text": [
      "tensor([[1., 0., 0., 0., 0.],\n",
      "        [1., 1., 0., 0., 0.],\n",
      "        [1., 1., 1., 0., 0.],\n",
      "        [1., 1., 1., 1., 0.],\n",
      "        [1., 1., 1., 1., 1.]])\n",
      "tensor([[1., 1., 1., 1., 1.],\n",
      "        [0., 1., 1., 1., 1.],\n",
      "        [0., 0., 1., 1., 1.],\n",
      "        [0., 0., 0., 1., 1.],\n",
      "        [0., 0., 0., 0., 1.]])\n"
     ]
    }
   ],
   "source": [
    "# Create a lower triangular matrix\n",
    "out = torch.tril(torch.ones(5, 5)) \n",
    "print(out)\n",
    "\n",
    "# Create an upper triangular matrix\n",
    "out = torch.triu(torch.ones(5, 5))  \n",
    "print(out)"
   ]
  },
  {
   "cell_type": "code",
   "execution_count": 25,
   "id": "59eb6162",
   "metadata": {},
   "outputs": [
    {
     "name": "stdout",
     "output_type": "stream",
     "text": [
      "tensor([[0., -inf, -inf, -inf, -inf],\n",
      "        [0., 0., -inf, -inf, -inf],\n",
      "        [0., 0., 0., -inf, -inf],\n",
      "        [0., 0., 0., 0., -inf],\n",
      "        [0., 0., 0., 0., 0.]])\n"
     ]
    },
    {
     "data": {
      "text/plain": [
       "tensor([[1., 0., 0., 0., 0.],\n",
       "        [1., 1., 0., 0., 0.],\n",
       "        [1., 1., 1., 0., 0.],\n",
       "        [1., 1., 1., 1., 0.],\n",
       "        [1., 1., 1., 1., 1.]])"
      ]
     },
     "execution_count": 25,
     "metadata": {},
     "output_type": "execute_result"
    }
   ],
   "source": [
    "# Create a tensor filled with zeros\n",
    "out = torch.zeros(5, 5).masked_fill(torch.tril(torch.ones(5, 5)) == 0, float('-inf'))\n",
    "\n",
    "# Print the tensor\n",
    "print(out)\n",
    "\n",
    "# Calculate the exponential of the tensor\n",
    "torch.exp(out)"
   ]
  },
  {
   "cell_type": "code",
   "execution_count": 32,
   "id": "472837df",
   "metadata": {},
   "outputs": [
    {
     "name": "stdout",
     "output_type": "stream",
     "text": [
      "tensor([[[0., 0., 0., 0., 0.],\n",
      "         [0., 0., 0., 0., 0.],\n",
      "         [0., 0., 0., 0., 0.],\n",
      "         [0., 0., 0., 0., 0.]],\n",
      "\n",
      "        [[0., 0., 0., 0., 0.],\n",
      "         [0., 0., 0., 0., 0.],\n",
      "         [0., 0., 0., 0., 0.],\n",
      "         [0., 0., 0., 0., 0.]],\n",
      "\n",
      "        [[0., 0., 0., 0., 0.],\n",
      "         [0., 0., 0., 0., 0.],\n",
      "         [0., 0., 0., 0., 0.],\n",
      "         [0., 0., 0., 0., 0.]]])\n",
      "torch.Size([4, 3, 5])\n"
     ]
    }
   ],
   "source": [
    "input = torch.zeros(3, 4, 5)\n",
    "\n",
    "print(input)\n",
    "\n",
    "out = torch.transpose(input, 0, 1)\n",
    "\n",
    "print(out.shape)"
   ]
  },
  {
   "cell_type": "code",
   "execution_count": 35,
   "id": "3d3b06f8",
   "metadata": {},
   "outputs": [
    {
     "name": "stdout",
     "output_type": "stream",
     "text": [
      "tensor([[0.1000, 0.2000, 0.3000, 0.4000, 0.5000],\n",
      "        [0.1000, 0.2000, 0.3000, 0.4000, 0.5000],\n",
      "        [0.1000, 0.2000, 0.3000, 0.4000, 0.5000]])\n"
     ]
    }
   ],
   "source": [
    "tensor_one = torch.tensor([0.1, 0.2, 0.3, 0.4, 0.5])\n",
    "tensor_two = torch.tensor([0.1, 0.2, 0.3, 0.4, 0.5])\n",
    "tensor_three = torch.tensor([0.1, 0.2, 0.3, 0.4, 0.5])\n",
    "\n",
    "stacked = torch.stack((tensor_one, tensor_two, tensor_three))\n",
    "\n",
    "print(stacked)"
   ]
  },
  {
   "cell_type": "markdown",
   "id": "d5f610b7",
   "metadata": {},
   "source": [
    "#### Important Functions"
   ]
  },
  {
   "cell_type": "code",
   "execution_count": 40,
   "id": "6edf4cf2",
   "metadata": {},
   "outputs": [
    {
     "name": "stdout",
     "output_type": "stream",
     "text": [
      "tensor([-3.4337, -0.6376,  1.8161], grad_fn=<SqueezeBackward4>)\n"
     ]
    }
   ],
   "source": [
    "import torch.nn as nn\n",
    "\n",
    "# Define the sample tensor\n",
    "sample = torch.tensor([1.5, 2.5, 3.5, 4.5, 5.5])\n",
    "\n",
    "# Define the linear layer with input size 5 and output size 3\n",
    "linear = nn.Linear(5, 3, bias=False)\n",
    "\n",
    "# Pass the sample tensor through the linear layer\n",
    "out = linear(sample)\n",
    "\n",
    "# Print the output tensor\n",
    "print(out)"
   ]
  },
  {
   "cell_type": "code",
   "execution_count": 41,
   "id": "0ec4f8c7",
   "metadata": {},
   "outputs": [
    {
     "name": "stdout",
     "output_type": "stream",
     "text": [
      "tensor([0.0117, 0.0317, 0.0861, 0.2341, 0.6364])\n"
     ]
    }
   ],
   "source": [
    "import torch.nn.functional as F\n",
    "\n",
    "# Define the sample tensor\n",
    "sample = torch.tensor([1.5, 2.5, 3.5, 4.5, 5.5])\n",
    "\n",
    "# Apply softmax function to the sample tensor along dimension 0\n",
    "softmax = F.softmax(sample, dim=0)\n",
    "\n",
    "# Print the softmax tensor\n",
    "print(softmax)"
   ]
  },
  {
   "cell_type": "code",
   "execution_count": 43,
   "id": "6a71bf12",
   "metadata": {},
   "outputs": [
    {
     "name": "stdout",
     "output_type": "stream",
     "text": [
      "tensor([[ 1.0172e-01, -1.9097e+00,  1.9631e+00,  7.5606e-01, -1.1897e+00,\n",
      "          2.0414e+00,  1.1170e+00,  2.5182e+00,  9.7049e-01,  2.7721e+00,\n",
      "          8.8650e-01,  4.2027e-01, -7.2736e-01, -9.9180e-01,  3.1312e-01,\n",
      "         -1.6686e-01,  2.0143e-01, -1.4672e+00, -4.4485e-01,  3.5430e-01,\n",
      "          2.1918e-02, -1.0510e+00, -4.1342e-01, -7.0834e-01,  2.9492e+00,\n",
      "         -1.8056e-02,  9.2831e-01,  9.7471e-02, -1.0939e+00, -7.5398e-02,\n",
      "          6.0854e-01,  1.4911e+00,  6.6362e-01, -6.2228e-01, -7.7580e-01,\n",
      "         -5.9400e-01,  8.4913e-01,  1.0868e+00, -1.9647e+00, -1.4774e+00,\n",
      "          8.7803e-01, -6.3203e-01, -3.9728e-01,  6.1473e-02, -2.5838e-01,\n",
      "          4.8283e-01, -5.4130e-01,  3.9844e-01,  2.0804e-01, -8.4231e-01,\n",
      "          8.5253e-01,  6.7746e-01, -9.5053e-01,  6.7662e-01, -5.0145e-01,\n",
      "         -1.1749e+00,  3.4841e-01,  1.7689e-01, -8.4588e-01, -7.7313e-02,\n",
      "          1.7446e-01,  1.6797e+00, -5.1352e-01, -6.9137e-01, -5.5070e-01,\n",
      "          1.5161e+00, -1.3931e-01, -2.0482e-01,  1.0144e-01, -8.2189e-01,\n",
      "         -6.8590e-02, -1.3298e-02,  1.5570e+00, -1.0954e+00,  1.8988e+00,\n",
      "         -7.7245e-01, -1.1011e+00, -9.5699e-01, -1.1652e-01, -7.2720e-01,\n",
      "         -4.0130e-01, -1.4984e+00, -1.1356e-01,  1.0836e+00, -6.2398e-01,\n",
      "         -5.7919e-01, -1.8920e-01, -6.4150e-01,  9.1143e-02,  1.3351e+00,\n",
      "          1.6568e+00,  9.0543e-01, -2.0943e+00, -9.6699e-01,  1.4928e-01,\n",
      "          1.4323e-03, -4.9443e-02, -2.1435e-01, -8.8389e-01,  2.2749e-01,\n",
      "         -3.0193e-01,  1.9726e+00, -5.6972e-01,  1.2873e+00,  2.3719e-01,\n",
      "          5.5781e-01,  7.1674e-01, -3.1485e-01, -8.9921e-01,  1.4215e-01,\n",
      "         -5.2272e-01,  1.4546e+00,  3.6163e-01,  7.9714e-02, -1.1565e+00,\n",
      "          3.9129e-01,  7.3023e-01, -1.0116e+00, -3.9861e-01,  6.2222e-02,\n",
      "         -3.6606e-01,  5.1425e-01, -3.7890e-01, -1.2135e-01, -3.3785e-02,\n",
      "         -1.9244e-01,  5.3595e-01, -5.4934e-01],\n",
      "        [ 1.0902e+00,  4.2000e-01, -1.2261e+00, -6.3895e-01, -2.6645e+00,\n",
      "         -1.1010e+00, -6.5838e-01, -1.8273e+00, -7.3910e-01,  6.1830e-01,\n",
      "         -1.8204e+00, -1.2360e-01,  2.9161e-01, -4.5637e-01, -6.1796e-01,\n",
      "          1.5491e+00, -3.7633e-01,  1.7467e+00,  1.7999e+00,  3.5809e-01,\n",
      "         -9.1017e-01, -5.8071e-01, -1.3157e+00,  4.9669e-01, -2.2737e+00,\n",
      "         -1.1976e+00, -1.6176e+00, -3.4616e-01,  2.7057e+00, -2.7271e-01,\n",
      "          9.1668e-01, -1.9601e+00,  5.8315e-01,  6.7061e-01, -9.9021e-01,\n",
      "         -6.8516e-01,  6.4951e-01, -1.3440e-02, -1.1853e+00, -5.1361e-01,\n",
      "         -1.2166e-01, -1.1963e+00, -4.0817e-01, -6.4850e-01, -1.0388e+00,\n",
      "          7.0613e-01,  4.3550e-01, -1.5312e+00, -3.0115e-01, -3.9886e-01,\n",
      "          9.2140e-01,  8.2209e-01,  8.4506e-01,  9.9439e-01,  2.3650e+00,\n",
      "         -1.0522e+00,  6.5247e-01,  3.4897e-01, -4.1944e-01,  1.7574e+00,\n",
      "          2.5319e-01,  1.2273e+00, -1.2231e+00, -4.1528e-01, -3.2716e-01,\n",
      "          5.6719e-01, -1.6955e+00, -1.2676e-01, -3.6624e-01, -2.4032e+00,\n",
      "          2.1699e+00,  1.1361e+00,  2.3651e-01, -1.4807e-02, -1.0879e+00,\n",
      "          1.7181e-01, -2.6649e-01, -6.4752e-01,  5.7517e-01, -7.9239e-01,\n",
      "         -1.4691e+00,  7.9296e-01, -1.6653e+00, -9.6947e-01, -1.3894e+00,\n",
      "          1.4132e-01,  6.8090e-02, -4.3433e-01, -2.7643e-01, -8.2072e-01,\n",
      "         -2.1658e+00,  6.2466e-01, -6.3214e-01, -3.8901e-01,  3.6469e-01,\n",
      "         -5.0500e-01,  3.4296e-01, -5.5625e-01, -4.2034e-01, -1.0705e-01,\n",
      "          9.1153e-02,  8.1546e-02, -1.8924e-01, -1.2163e+00,  2.3428e-01,\n",
      "         -1.1314e-01,  1.0443e+00, -2.0096e+00, -1.0233e+00, -9.1852e-01,\n",
      "         -4.7189e-01,  1.3122e+00,  1.1355e+00,  2.6246e-02,  7.9840e-01,\n",
      "          3.6612e-01, -1.4747e+00,  2.0034e+00,  3.5006e-01, -8.7971e-02,\n",
      "         -1.6394e+00,  2.6123e-02, -2.4555e-01,  2.2049e+00,  1.0668e+00,\n",
      "         -1.7587e+00,  1.2614e+00, -7.8482e-01],\n",
      "        [-5.0862e-01, -1.3930e+00, -3.4140e-01, -4.5595e-01, -8.3239e-01,\n",
      "         -6.9786e-01, -1.1280e+00,  7.8315e-01,  8.2555e-01, -9.7728e-01,\n",
      "         -4.6218e-01, -4.3202e-02,  5.9487e-01, -5.0755e-02,  1.3465e+00,\n",
      "          1.7172e+00, -8.1005e-01, -1.3425e+00,  9.8724e-01,  7.8875e-01,\n",
      "          5.8799e-01,  5.2946e-01, -2.4223e-01,  6.9053e-01,  1.2872e+00,\n",
      "         -8.9206e-01,  1.7486e-01,  3.0599e-01, -8.2463e-01, -3.8640e-01,\n",
      "         -1.1716e-01,  1.1022e-01,  7.5876e-02,  4.4830e-01,  9.9587e-01,\n",
      "         -1.4415e+00,  8.1212e-02, -4.0455e-01,  9.9252e-01, -1.6335e-01,\n",
      "          1.7366e-01,  8.4682e-01,  1.3530e+00,  6.2227e-01, -1.1367e+00,\n",
      "          9.0005e-02, -1.7994e-01,  9.5567e-01,  9.9348e-02, -5.4951e-02,\n",
      "          1.8459e+00,  2.3039e+00, -3.4288e-01, -3.8579e-01,  5.2161e-01,\n",
      "         -1.4029e+00,  1.0082e+00,  4.4812e-01, -7.5215e-01, -8.1339e-01,\n",
      "         -1.9710e-02, -2.7313e+00, -1.5490e+00,  1.1973e-01,  2.6355e-01,\n",
      "         -1.0649e+00, -6.4769e-01, -7.0686e-01,  1.7743e+00, -7.0564e-01,\n",
      "          4.9885e-01, -2.1603e-01,  5.5966e-01, -3.5198e-01, -3.1864e-01,\n",
      "          5.4424e-01, -3.6112e-01, -8.8606e-02,  8.8978e-01,  1.1389e+00,\n",
      "          1.3991e+00, -6.4851e-01, -4.2237e-01,  7.1746e-01,  8.7505e-01,\n",
      "          3.0607e-01, -1.7333e+00, -4.2847e-01,  5.5374e-01, -3.4964e-01,\n",
      "         -5.6128e-01,  1.2032e+00, -4.0702e-01, -6.8935e-01,  2.7993e-01,\n",
      "         -8.5340e-01, -5.1518e-01,  1.5913e-01,  7.4196e-02, -6.6213e-01,\n",
      "          1.6556e+00, -8.2244e-01,  6.8628e-01, -3.0766e-01, -1.9480e+00,\n",
      "         -2.0877e-01, -5.7669e-01, -2.2112e-01, -3.9262e-01, -1.5320e+00,\n",
      "         -3.1169e-01,  1.6541e-01,  1.5710e+00,  8.6177e-02, -1.6876e+00,\n",
      "          1.3491e+00,  9.7574e-01, -5.5905e-01,  5.6090e-02, -8.9554e-01,\n",
      "          1.4929e+00,  1.1010e+00,  1.6062e-02,  6.9800e-01,  5.7606e-01,\n",
      "         -6.1241e-01, -1.4718e-03,  1.4943e+00],\n",
      "        [-5.8136e-01, -2.7153e-02,  1.0311e+00,  4.0094e-01, -1.5340e+00,\n",
      "         -1.6536e-01, -1.4874e+00,  1.4252e+00, -7.3877e-01,  4.7987e-01,\n",
      "          8.3555e-01,  8.7683e-01,  1.0129e+00,  6.5436e-01,  3.8822e-01,\n",
      "          8.3127e-01, -2.5598e+00,  1.5678e+00,  1.3736e+00, -2.8572e-01,\n",
      "         -2.1277e+00, -7.1434e-01, -2.4067e-01, -4.0232e-01, -2.7327e-02,\n",
      "         -1.0415e+00, -1.0473e+00, -1.1099e+00, -7.8428e-01, -3.6340e-01,\n",
      "         -4.4971e-02,  1.1250e+00,  1.0102e-01,  3.6926e-01,  1.2824e+00,\n",
      "          6.9920e-01, -4.3158e-01,  3.5065e-01, -9.0777e-01, -9.0626e-01,\n",
      "         -4.6662e-01,  1.3395e+00, -6.9346e-01,  7.3775e-01,  4.8068e-01,\n",
      "         -7.9180e-02, -7.4985e-01, -2.8992e-02,  2.4880e-01,  2.2747e+00,\n",
      "          1.0100e+00,  1.1853e+00,  6.3230e-01,  6.6095e-01,  6.9745e-01,\n",
      "          1.6978e+00, -4.4456e-02,  7.3816e-01, -1.0818e+00,  6.2296e-02,\n",
      "          1.1173e+00, -4.3238e-01, -1.1408e+00,  2.2389e-01,  1.9609e+00,\n",
      "         -6.0147e-01,  1.1254e+00, -1.3215e+00, -7.3703e-01, -1.3042e+00,\n",
      "         -6.5725e-01,  8.1455e-01, -1.0377e+00, -2.0590e-01, -5.8694e-01,\n",
      "         -5.1834e-01, -1.8612e+00, -3.8960e-01,  9.5274e-01,  9.5181e-01,\n",
      "          2.0336e+00,  5.9491e-01, -2.0824e-01,  5.0692e-01, -1.0336e+00,\n",
      "         -6.2195e-01, -1.1855e-01, -3.8928e-01,  1.5698e+00,  5.5671e-01,\n",
      "          1.2087e+00,  8.4154e-01, -8.6937e-02,  1.0870e+00,  1.8993e+00,\n",
      "         -1.5932e+00,  8.0579e-01, -2.9132e-01,  4.9188e-01, -3.3306e-02,\n",
      "         -6.5266e-01,  1.9013e+00,  5.6259e-01,  5.7748e-01,  2.2096e-01,\n",
      "         -2.5329e-01, -3.3175e-02,  6.6985e-01,  7.2031e-02,  1.6665e-01,\n",
      "         -9.2288e-01, -1.5182e+00,  1.9567e+00, -8.0839e-01, -5.3445e-01,\n",
      "         -7.8073e-01, -3.6016e-01, -6.1207e-01,  1.4324e+00, -2.8396e-01,\n",
      "          2.1807e-01,  8.2265e-01,  4.6919e-01,  1.3313e+00,  1.9735e+00,\n",
      "          7.7142e-01,  1.8178e+00,  1.1773e-01]], grad_fn=<EmbeddingBackward0>)\n"
     ]
    }
   ],
   "source": [
    "# Define the vocabulary size and embedding dimension\n",
    "vocab_size = 1000\n",
    "embedding_dim = 128\n",
    "\n",
    "# Create an embedding layer\n",
    "embedding = nn.Embedding(vocab_size, embedding_dim)\n",
    "\n",
    "# Pass a tensor of indices through the embedding layer\n",
    "out = embedding(torch.tensor([1, 2, 3, 4]))\n",
    "\n",
    "# Print the output tensor\n",
    "print(out)"
   ]
  },
  {
   "cell_type": "code",
   "execution_count": 47,
   "id": "8783ad0d",
   "metadata": {},
   "outputs": [
    {
     "name": "stdout",
     "output_type": "stream",
     "text": [
      "tensor([[0.1000, 0.1300, 0.1100],\n",
      "        [0.3100, 0.4000, 0.2900],\n",
      "        [0.3100, 0.4000, 0.2900]])\n"
     ]
    }
   ],
   "source": [
    "# Define the matrices\n",
    "matrix_one = torch.tensor([[0.1, 0.2], [0.4, 0.5], [0.4, 0.5]])\n",
    "matrix_two = torch.tensor([[0.4, 0.5, 0.1], [0.3, 0.4, 0.5]])\n",
    "\n",
    "# Perform matrix multiplication\n",
    "out = torch.matmul(matrix_one, matrix_two)\n",
    "\n",
    "# Print the result\n",
    "print(out)"
   ]
  },
  {
   "cell_type": "code",
   "execution_count": 52,
   "id": "2f395826",
   "metadata": {},
   "outputs": [
    {
     "name": "stdout",
     "output_type": "stream",
     "text": [
      "tensor([[2, 2, 3],\n",
      "        [2, 1, 3]])\n",
      "tensor([[1, 0, 1],\n",
      "        [3, 3, 1]], dtype=torch.int32)\n",
      "tensor([[2, 0, 3],\n",
      "        [6, 3, 3]])\n"
     ]
    }
   ],
   "source": [
    "\"\"\"\"\n",
    "NOTE: \n",
    "- In PyTorch, the dtype argument is used to specify the data type of the tensor.\n",
    "- In PyTorch the float dtype can not be multiplied with the int dtype\n",
    "\"\"\"\n",
    "\n",
    "int_64 = torch.randint(4, (2, 3), dtype=torch.int64)\n",
    "\n",
    "print(int_64)\n",
    "\n",
    "int_32 = torch.randint(4, (2, 3), dtype=torch.int32)\n",
    "\n",
    "print(int_32)\n",
    "\n",
    "out = int_64 * int_32\n",
    "\n",
    "print(out)"
   ]
  }
 ],
 "metadata": {
  "kernelspec": {
   "display_name": "cuda",
   "language": "python",
   "name": "python3"
  },
  "language_info": {
   "codemirror_mode": {
    "name": "ipython",
    "version": 3
   },
   "file_extension": ".py",
   "mimetype": "text/x-python",
   "name": "python",
   "nbconvert_exporter": "python",
   "pygments_lexer": "ipython3",
   "version": "3.12.7"
  }
 },
 "nbformat": 4,
 "nbformat_minor": 5
}
