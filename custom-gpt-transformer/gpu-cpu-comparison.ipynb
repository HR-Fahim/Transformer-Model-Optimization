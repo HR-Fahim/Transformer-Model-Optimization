{
 "cells": [
  {
   "cell_type": "markdown",
   "id": "19b999bd",
   "metadata": {},
   "source": [
    "#### Torch Import"
   ]
  },
  {
   "cell_type": "code",
   "execution_count": 2,
   "metadata": {},
   "outputs": [
    {
     "name": "stdout",
     "output_type": "stream",
     "text": [
      "cuda\n"
     ]
    }
   ],
   "source": [
    "import time\n",
    "import torch\n",
    "import numpy as np\n",
    "\n",
    "device = torch.device(\"cuda\" if torch.cuda.is_available() else \"cpu\")\n",
    "print(device)"
   ]
  },
  {
   "cell_type": "markdown",
   "id": "8e8a9a85",
   "metadata": {},
   "source": [
    "#### Test Elapsed Time "
   ]
  },
  {
   "cell_type": "code",
   "execution_count": 17,
   "id": "43907e7e",
   "metadata": {},
   "outputs": [
    {
     "name": "stdout",
     "output_type": "stream",
     "text": [
      "  0.000000\n",
      "CPU times: total: 0 ns\n",
      "Wall time: 0 ns\n"
     ]
    }
   ],
   "source": [
    "%%time\n",
    "start_time = time.time()  # Start measuring the execution time\n",
    "\n",
    "# Matrix multiplication\n",
    "zeros = torch.zeros(3, 4)  # Create a tensor of zeros\n",
    "\n",
    "end_time = time.time()  # Stop measuring the execution time\n",
    "\n",
    "elapsed_time = end_time - start_time  # Calculate the elapsed time\n",
    "print(f\"{elapsed_time: 10f}\")  # Print the elapsed time"
   ]
  },
  {
   "cell_type": "code",
   "execution_count": 12,
   "id": "180cb215",
   "metadata": {},
   "outputs": [
    {
     "name": "stdout",
     "output_type": "stream",
     "text": [
      "(CUDA) GPU:   0.031118\n",
      "CPU:  24.276107\n"
     ]
    }
   ],
   "source": [
    "\"\"\"\n",
    "Time the execution of a matrix multiplication over GPU and CPU\n",
    "\"\"\"\n",
    "\n",
    "torch_rand_first = torch.rand(10000, 10000).to(device)\n",
    "torch_rand_second = torch.rand(10000, 10000).to(device)\n",
    "\n",
    "np_rand_first = np.random.rand(10000, 10000)\n",
    "np_rand_second = np.random.rand(10000, 10000)\n",
    "\n",
    "start_time = time.time()  # Start measuring the execution time\n",
    "\n",
    "torch_rand_first @ torch_rand_second  # Matrix multiplication\n",
    "end_time = time.time()  # Stop measuring the execution time\n",
    "\n",
    "elapsed_time = end_time - start_time  # Calculate the elapsed time\n",
    "print(f\"(CUDA) GPU: {elapsed_time: 10f}\")  # Print the elapsed time\n",
    "\n",
    "start_time = time.time()  # Start measuring the execution time\n",
    "\n",
    "np_rand_first @ np_rand_second  # Matrix multiplication\n",
    "end_time = time.time()  # Stop measuring the execution time\n",
    "\n",
    "elapsed_time = end_time - start_time  # Calculate the elapsed time\n",
    "print(f\"CPU: {elapsed_time: 10f}\")  # Print the elapsed time"
   ]
  },
  {
   "cell_type": "markdown",
   "id": "2b4d9888",
   "metadata": {},
   "source": [
    "#### Torch Functions"
   ]
  },
  {
   "cell_type": "code",
   "execution_count": 20,
   "id": "df8047e9",
   "metadata": {},
   "outputs": [
    {
     "name": "stdout",
     "output_type": "stream",
     "text": [
      "tensor([4, 4, 0])\n"
     ]
    }
   ],
   "source": [
    "\"\"\"\n",
    "Perform multinomial sampling on the tensor with probabilities \n",
    "and print the tensor\n",
    "\"\"\"\n",
    "\n",
    "# Create a tensor with probabilities\n",
    "probabilities = torch.tensor([0.1, 0.2, 0.3, 0.4, 0.5])\n",
    "\n",
    "# Perform multinomial sampling\n",
    "sampled_indices = torch.multinomial(probabilities, num_samples=3, replacement=True)\n",
    "\n",
    "# Print the tensor\n",
    "print(sampled_indices)"
   ]
  },
  {
   "cell_type": "code",
   "execution_count": 21,
   "id": "5fb9e8a3",
   "metadata": {},
   "outputs": [
    {
     "name": "stdout",
     "output_type": "stream",
     "text": [
      "tensor([0.1000, 0.2000, 0.3000, 0.4000, 0.5000, 5.0000])\n"
     ]
    }
   ],
   "source": [
    "# Create a tensor\n",
    "tensor = torch.tensor([0.1, 0.2, 0.3, 0.4, 0.5])\n",
    "\n",
    "# Concatenate the tensor with another tensor containing the value 5\n",
    "out = torch.cat((tensor, torch.tensor([5])), dim=0)\n",
    "\n",
    "# Print the concatenated tensor\n",
    "print(out)"
   ]
  },
  {
   "cell_type": "code",
   "execution_count": 23,
   "id": "36b0d80e",
   "metadata": {},
   "outputs": [
    {
     "name": "stdout",
     "output_type": "stream",
     "text": [
      "tensor([[1., 0., 0., 0., 0.],\n",
      "        [1., 1., 0., 0., 0.],\n",
      "        [1., 1., 1., 0., 0.],\n",
      "        [1., 1., 1., 1., 0.],\n",
      "        [1., 1., 1., 1., 1.]])\n",
      "tensor([[1., 1., 1., 1., 1.],\n",
      "        [0., 1., 1., 1., 1.],\n",
      "        [0., 0., 1., 1., 1.],\n",
      "        [0., 0., 0., 1., 1.],\n",
      "        [0., 0., 0., 0., 1.]])\n"
     ]
    }
   ],
   "source": [
    "# Create a lower triangular matrix\n",
    "out = torch.tril(torch.ones(5, 5)) \n",
    "print(out)\n",
    "\n",
    "# Create an upper triangular matrix\n",
    "out = torch.triu(torch.ones(5, 5))  \n",
    "print(out)"
   ]
  },
  {
   "cell_type": "code",
   "execution_count": 25,
   "id": "59eb6162",
   "metadata": {},
   "outputs": [
    {
     "name": "stdout",
     "output_type": "stream",
     "text": [
      "tensor([[0., -inf, -inf, -inf, -inf],\n",
      "        [0., 0., -inf, -inf, -inf],\n",
      "        [0., 0., 0., -inf, -inf],\n",
      "        [0., 0., 0., 0., -inf],\n",
      "        [0., 0., 0., 0., 0.]])\n"
     ]
    },
    {
     "data": {
      "text/plain": [
       "tensor([[1., 0., 0., 0., 0.],\n",
       "        [1., 1., 0., 0., 0.],\n",
       "        [1., 1., 1., 0., 0.],\n",
       "        [1., 1., 1., 1., 0.],\n",
       "        [1., 1., 1., 1., 1.]])"
      ]
     },
     "execution_count": 25,
     "metadata": {},
     "output_type": "execute_result"
    }
   ],
   "source": [
    "# Create a tensor filled with zeros\n",
    "out = torch.zeros(5, 5).masked_fill(torch.tril(torch.ones(5, 5)) == 0, float('-inf'))\n",
    "\n",
    "# Print the tensor\n",
    "print(out)\n",
    "\n",
    "# Calculate the exponential of the tensor\n",
    "torch.exp(out)"
   ]
  },
  {
   "cell_type": "code",
   "execution_count": 32,
   "id": "472837df",
   "metadata": {},
   "outputs": [
    {
     "name": "stdout",
     "output_type": "stream",
     "text": [
      "tensor([[[0., 0., 0., 0., 0.],\n",
      "         [0., 0., 0., 0., 0.],\n",
      "         [0., 0., 0., 0., 0.],\n",
      "         [0., 0., 0., 0., 0.]],\n",
      "\n",
      "        [[0., 0., 0., 0., 0.],\n",
      "         [0., 0., 0., 0., 0.],\n",
      "         [0., 0., 0., 0., 0.],\n",
      "         [0., 0., 0., 0., 0.]],\n",
      "\n",
      "        [[0., 0., 0., 0., 0.],\n",
      "         [0., 0., 0., 0., 0.],\n",
      "         [0., 0., 0., 0., 0.],\n",
      "         [0., 0., 0., 0., 0.]]])\n",
      "torch.Size([4, 3, 5])\n"
     ]
    }
   ],
   "source": [
    "input = torch.zeros(3, 4, 5)\n",
    "\n",
    "print(input)\n",
    "\n",
    "out = torch.transpose(input, 0, 1)\n",
    "\n",
    "print(out.shape)"
   ]
  },
  {
   "cell_type": "code",
   "execution_count": 35,
   "id": "3d3b06f8",
   "metadata": {},
   "outputs": [
    {
     "name": "stdout",
     "output_type": "stream",
     "text": [
      "tensor([[0.1000, 0.2000, 0.3000, 0.4000, 0.5000],\n",
      "        [0.1000, 0.2000, 0.3000, 0.4000, 0.5000],\n",
      "        [0.1000, 0.2000, 0.3000, 0.4000, 0.5000]])\n"
     ]
    }
   ],
   "source": [
    "tensor_one = torch.tensor([0.1, 0.2, 0.3, 0.4, 0.5])\n",
    "tensor_two = torch.tensor([0.1, 0.2, 0.3, 0.4, 0.5])\n",
    "tensor_three = torch.tensor([0.1, 0.2, 0.3, 0.4, 0.5])\n",
    "\n",
    "stacked = torch.stack((tensor_one, tensor_two, tensor_three))\n",
    "\n",
    "print(stacked)"
   ]
  },
  {
   "cell_type": "code",
   "execution_count": null,
   "id": "6edf4cf2",
   "metadata": {},
   "outputs": [],
   "source": []
  }
 ],
 "metadata": {
  "kernelspec": {
   "display_name": "cuda",
   "language": "python",
   "name": "python3"
  },
  "language_info": {
   "codemirror_mode": {
    "name": "ipython",
    "version": 3
   },
   "file_extension": ".py",
   "mimetype": "text/x-python",
   "name": "python",
   "nbconvert_exporter": "python",
   "pygments_lexer": "ipython3",
   "version": "3.12.7"
  }
 },
 "nbformat": 4,
 "nbformat_minor": 5
}
