{
 "cells": [
  {
   "cell_type": "code",
   "execution_count": 5,
   "id": "4a8a7dcf-c82f-4f76-8625-01974fb32265",
   "metadata": {},
   "outputs": [
    {
     "ename": "SyntaxError",
     "evalue": "invalid character '✨' (U+2728) (2920264978.py, line 7)",
     "output_type": "error",
     "traceback": [
      "\u001b[1;36m  Cell \u001b[1;32mIn[5], line 7\u001b[1;36m\u001b[0m\n\u001b[1;33m    *************(✨, Codeium, Command, 🌟, *************/)\u001b[0m\n\u001b[1;37m                  ^\u001b[0m\n\u001b[1;31mSyntaxError\u001b[0m\u001b[1;31m:\u001b[0m invalid character '✨' (U+2728)\n"
     ]
    }
   ],
   "source": [
    "with open('infinite_in_modern_thought.txt', 'r', encoding='utf-8') as f:\n",
    "    text = f.read()\n",
    "\n",
    "# print(text[:1000])\n",
    "chars = sorted(list(set(text)))\n",
    "# print(chars)\n",
    "# print(len(chars))"
   ]
  },
  {
   "cell_type": "code",
   "execution_count": 3,
   "id": "569fea6c",
   "metadata": {},
   "outputs": [],
   "source": [
    "string_to_index = {ch: i for i, ch in enumerate(chars)}\n",
    "index_to_string = {i: ch for i, ch in enumerate(chars)}\n",
    "endcode = lambda s: [string_to_index[c] for c in s]\n",
    "decode = lambda l: ''.join([index_to_string[i] for i in l])"
   ]
  }
 ],
 "metadata": {
  "kernelspec": {
   "display_name": "cuda",
   "language": "python",
   "name": "python3"
  },
  "language_info": {
   "codemirror_mode": {
    "name": "ipython",
    "version": 3
   },
   "file_extension": ".py",
   "mimetype": "text/x-python",
   "name": "python",
   "nbconvert_exporter": "python",
   "pygments_lexer": "ipython3",
   "version": "3.12.7"
  }
 },
 "nbformat": 4,
 "nbformat_minor": 5
}
