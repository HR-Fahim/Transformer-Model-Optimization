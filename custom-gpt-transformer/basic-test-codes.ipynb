{
 "cells": [
  {
   "cell_type": "markdown",
   "id": "eac952fd",
   "metadata": {},
   "source": [
    "#### Torch Import"
   ]
  },
  {
   "cell_type": "code",
   "execution_count": 10,
   "id": "5e26f55f",
   "metadata": {},
   "outputs": [],
   "source": [
    "import torch"
   ]
  },
  {
   "cell_type": "markdown",
   "id": "ad27eed6",
   "metadata": {},
   "source": [
    "#### Basic Test"
   ]
  },
  {
   "cell_type": "code",
   "execution_count": 11,
   "id": "4a8a7dcf-c82f-4f76-8625-01974fb32265",
   "metadata": {},
   "outputs": [],
   "source": [
    "# Read the contents of the file 'infinite_in_modern_thought.txt' and store it in the variable 'text'\n",
    "with open('infinite_in_modern_thought.txt', 'r', encoding='utf-8') as f:\n",
    "    text = f.read()\n",
    "\n",
    "# Print the first 1000 characters of the text\n",
    "# print(text[:1000])\n",
    "\n",
    "# Create a list of unique characters in the text and sort them\n",
    "chars = sorted(list(set(text)))\n",
    "# print(chars)\n",
    "\n",
    "# Print the number of unique characters\n",
    "# print(len(chars))\n",
    "\n",
    "# print(text[:1000])\n",
    "chars = sorted(list(set(text)))\n",
    "# print(chars)\n",
    "# print(len(chars))"
   ]
  },
  {
   "cell_type": "markdown",
   "id": "c922e2a5",
   "metadata": {},
   "source": [
    "#### Simple Mapping"
   ]
  },
  {
   "cell_type": "code",
   "execution_count": 12,
   "id": "569fea6c",
   "metadata": {},
   "outputs": [
    {
     "name": "stdout",
     "output_type": "stream",
     "text": [
      "[35, 61, 68, 68, 71, 11, 1, 50, 71, 74, 68, 60, 2]\n",
      "Hello, World!\n"
     ]
    }
   ],
   "source": [
    "# Create a dictionary that maps each character to its index in the 'chars' list\n",
    "string_to_index = {ch: i for i, ch in enumerate(chars)}\n",
    "\n",
    "# Create a dictionary that maps each index to its corresponding character in the 'chars' list\n",
    "index_to_string = {i: ch for i, ch in enumerate(chars)}\n",
    "\n",
    "# Define the 'endcode' function that converts a string to a list of character indices\n",
    "endcode = lambda s: [string_to_index[c] for c in s]\n",
    "\n",
    "# Define the 'decode' function that converts a list of character indices to a string\n",
    "decode = lambda l: ''.join([index_to_string[i] for i in l])\n",
    "\n",
    "print(endcode(\"Hello, World!\"))\n",
    "\n",
    "print(decode(endcode(\"Hello, World!\")))"
   ]
  },
  {
   "cell_type": "markdown",
   "id": "6674aee3",
   "metadata": {},
   "source": [
    "#### Torch Mapping"
   ]
  },
  {
   "cell_type": "code",
   "execution_count": 13,
   "id": "99153e05",
   "metadata": {},
   "outputs": [
    {
     "name": "stdout",
     "output_type": "stream",
     "text": [
      "tensor([97, 47, 64, 61,  1, 43, 74, 71, 66, 61, 59, 76,  1, 34, 77, 76, 61, 70,\n",
      "        58, 61, 74, 63,  1, 61, 29, 71, 71, 67,  1, 71, 62,  1, 42, 70,  1, 76,\n",
      "        64, 61,  1, 76, 64, 61, 71, 74, 81,  1, 71, 62,  1, 76, 64, 61,  1, 65,\n",
      "        70, 62, 65, 70, 65, 76, 61,  1, 65, 70,  1, 69, 71, 60, 61, 74, 70,  1,\n",
      "        76, 64, 71, 77, 63, 64, 76,  0,  1,  1,  1,  1,  0, 47, 64, 65, 75,  1,\n",
      "        61, 58, 71, 71, 67,  1, 65, 75,  1, 62])\n"
     ]
    }
   ],
   "source": [
    "# Create a dictionary that maps each character to its index in the 'chars' list\n",
    "string_to_index = {ch: i for i, ch in enumerate(chars)}\n",
    "\n",
    "# Create a dictionary that maps each index to its corresponding character in the 'chars' list\n",
    "index_to_string = {i: ch for i, ch in enumerate(chars)}\n",
    "\n",
    "# Define the 'endcode' function that converts a string to a list of character indices\n",
    "endcode = lambda s: [string_to_index[c] for c in s]\n",
    "\n",
    "# Define the 'decode' function that converts a list of character indices to a string\n",
    "decode = lambda l: ''.join([index_to_string[i] for i in l])\n",
    "\n",
    "# Create a tensor from the encoded text using torch.tensor\n",
    "data = torch.tensor(endcode(text), dtype=torch.long)\n",
    "\n",
    "print(data[:100])"
   ]
  },
  {
   "cell_type": "markdown",
   "id": "458ebb88",
   "metadata": {},
   "source": [
    "#### Train Validation Split"
   ]
  },
  {
   "cell_type": "code",
   "execution_count": 14,
   "id": "33186e2f",
   "metadata": {},
   "outputs": [],
   "source": [
    "# Split the data into train and validation sets\n",
    "data_size = int(0.9 * len(data))  # Calculate the size of the train data\n",
    "\n",
    "train_data = data[:data_size]  # Assign the first 90% of the data to the train_data variable\n",
    "val_data = data[data_size:]  # Assign the remaining 10% of the data to the val_data variable"
   ]
  },
  {
   "cell_type": "markdown",
   "id": "2a0aca5f",
   "metadata": {},
   "source": [
    "#### Tensor Process Flow"
   ]
  },
  {
   "cell_type": "code",
   "execution_count": 15,
   "id": "97864467",
   "metadata": {},
   "outputs": [
    {
     "name": "stdout",
     "output_type": "stream",
     "text": [
      "when input is tensor([97]), the target: 47\n",
      "when input is tensor([97, 47]), the target: 64\n",
      "when input is tensor([97, 47, 64]), the target: 61\n",
      "when input is tensor([97, 47, 64, 61]), the target: 1\n",
      "when input is tensor([97, 47, 64, 61,  1]), the target: 43\n",
      "when input is tensor([97, 47, 64, 61,  1, 43]), the target: 74\n",
      "when input is tensor([97, 47, 64, 61,  1, 43, 74]), the target: 71\n",
      "when input is tensor([97, 47, 64, 61,  1, 43, 74, 71]), the target: 66\n"
     ]
    }
   ],
   "source": [
    "block_size = 8\n",
    "\n",
    "x = train_data[:block_size]\n",
    "y = train_data[1:block_size + 1]\n",
    "\n",
    "for t in range(block_size):\n",
    "    # Get the context by slicing the input sequence up to the current position\n",
    "    context = x[:t + 1]\n",
    "    \n",
    "    # Get the target by selecting the next character in the input sequence\n",
    "    target = y[t]\n",
    "    \n",
    "    # Print the context and target\n",
    "    print(f\"when input is {context}, the target: {target}\")"
   ]
  },
  {
   "cell_type": "code",
   "execution_count": null,
   "id": "72bfb9e8",
   "metadata": {},
   "outputs": [],
   "source": []
  }
 ],
 "metadata": {
  "kernelspec": {
   "display_name": "cuda",
   "language": "python",
   "name": "python3"
  },
  "language_info": {
   "codemirror_mode": {
    "name": "ipython",
    "version": 3
   },
   "file_extension": ".py",
   "mimetype": "text/x-python",
   "name": "python",
   "nbconvert_exporter": "python",
   "pygments_lexer": "ipython3",
   "version": "3.12.7"
  }
 },
 "nbformat": 4,
 "nbformat_minor": 5
}
